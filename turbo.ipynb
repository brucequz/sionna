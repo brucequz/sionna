{
  "nbformat": 4,
  "nbformat_minor": 0,
  "metadata": {
    "colab": {
      "provenance": [],
      "gpuType": "T4",
      "mount_file_id": "1_LF_hfKOk9z54Lnw2VCoNx1xLJdcPK8s",
      "authorship_tag": "ABX9TyMSHDgk6N643SccTl1EGqme",
      "include_colab_link": true
    },
    "kernelspec": {
      "name": "python3",
      "display_name": "Python 3"
    },
    "language_info": {
      "name": "python"
    },
    "accelerator": "GPU"
  },
  "cells": [
    {
      "cell_type": "markdown",
      "metadata": {
        "id": "view-in-github",
        "colab_type": "text"
      },
      "source": [
        "<a href=\"https://colab.research.google.com/github/brucequz/sionna/blob/main/turbo.ipynb\" target=\"_parent\"><img src=\"https://colab.research.google.com/assets/colab-badge.svg\" alt=\"Open In Colab\"/></a>"
      ]
    },
    {
      "cell_type": "code",
      "source": [
        "%%capture\n",
        "!pip install sionna"
      ],
      "metadata": {
        "id": "0Si8uNmk5Q4B"
      },
      "execution_count": null,
      "outputs": []
    },
    {
      "cell_type": "code",
      "source": [
        "import sionna, time\n",
        "import numpy as np\n",
        "import tensorflow as tf\n",
        "from sionna.utils import BinarySource, ebnodb2no, compute_ber, PlotBER\n",
        "from sionna.fec import turbo, conv\n",
        "from sionna.mapping import Mapper, Demapper, Constellation, qam\n",
        "from sionna.channel import AWGN\n",
        "from tensorflow.keras import Model"
      ],
      "metadata": {
        "id": "9QtQhYE65pqt"
      },
      "execution_count": null,
      "outputs": []
    },
    {
      "cell_type": "code",
      "source": [
        "import os # Configure which GPU\n",
        "if os.getenv(\"CUDA_VISIBLE_DEVICES\") is None:\n",
        "    gpu_num = 0 # Use \"\" to use the CPU\n",
        "    os.environ[\"CUDA_VISIBLE_DEVICES\"] = f\"{gpu_num}\"\n",
        "\n",
        "os.environ['TF_CPP_MIN_LOG_LEVEL'] = '3'\n",
        "\n",
        "# Import Sionna\n",
        "try:\n",
        "    import sionna as sn\n",
        "except ImportError as e:\n",
        "    # Install Sionna if package is not already installed\n",
        "    import os\n",
        "    os.system(\"pip install sionna\")\n",
        "    import sionna as sn\n",
        "\n",
        "# Configure the notebook to use only a single GPU and allocate only as much memory as needed\n",
        "# For more details, see https://www.tensorflow.org/guide/gpu\n",
        "import tensorflow as tf\n",
        "gpus = tf.config.list_physical_devices('GPU')\n",
        "if gpus:\n",
        "    try:\n",
        "        tf.config.experimental.set_memory_growth(gpus[0], True)\n",
        "    except RuntimeError as e:\n",
        "        print(e)\n",
        "\n",
        "# Avoid warnings from TensorFlow\n",
        "tf.get_logger().setLevel('ERROR')\n",
        "\n",
        "import numpy as np\n",
        "\n",
        "# For plotting\n",
        "%matplotlib inline\n",
        "# also try %matplotlib widget\n",
        "\n",
        "import matplotlib.pyplot as plt\n",
        "\n",
        "# for performance measurements\n",
        "import time\n",
        "\n",
        "# For the implementation of the Keras models\n",
        "from tensorflow.keras import Model"
      ],
      "metadata": {
        "id": "IMfbXYhXQ0rc"
      },
      "execution_count": null,
      "outputs": []
    },
    {
      "cell_type": "code",
      "source": [
        "sionna.config.seed = 41\n",
        "\n",
        "fb_poly = '1111001' # oct(171)\n",
        "ff_poly = '1011011' # oct(133)\n",
        "\n",
        "\n",
        "batch_size = 1000\n",
        "k = 64\n",
        "ebn0 = 1.5\n",
        "\n",
        "\n",
        "b = BinarySource()([batch_size, k])\n",
        "c = conv.ConvEncoder(gen_poly=[fb_poly, ff_poly], rsc=True)(b)\n",
        "encoder = turbo.TurboEncoder(gen_poly=[fb_poly, ff_poly], rate=1/2, interleaver_type=\"3GPP\")\n",
        "c_turbo = encoder(b)\n",
        "bpsk = Constellation(constellation_type=\"custom\", num_bits_per_symbol=1, initial_value=[-1,1], normalize=True, center=True)\n",
        "x = Mapper(\"custom\", constellation=bpsk)(c_turbo)\n",
        "y = AWGN()([x, ebnodb2no(ebn0, 2, 1/2)])\n",
        "llr = Demapper(demapping_method=\"maxlog\", constellation_type=\"custom\", constellation=bpsk)([y, ebnodb2no(ebn0, 2, 1/2)])\n",
        "b_hat = turbo.TurboDecoder(encoder=encoder, num_iter=6)(llr)\n",
        "\n",
        "print(tf.math.reduce_all(tf.math.equal(b,b_hat)))"
      ],
      "metadata": {
        "colab": {
          "base_uri": "https://localhost:8080/"
        },
        "id": "u02scGK_sNs9",
        "outputId": "e31010a4-5fc2-4213-aa3b-82568179858c"
      },
      "execution_count": null,
      "outputs": [
        {
          "output_type": "stream",
          "name": "stdout",
          "text": [
            "tf.Tensor(False, shape=(), dtype=bool)\n"
          ]
        }
      ]
    },
    {
      "cell_type": "code",
      "execution_count": null,
      "metadata": {
        "id": "e4-mRfMB40DX"
      },
      "outputs": [],
      "source": [
        "class E2E(Model):\n",
        "  def __init__(self):\n",
        "    super().__init__()\n",
        "    self.binary_source = BinarySource()\n",
        "    self.encoder = turbo.TurboEncoder(gen_poly=[fb_poly, ff_poly], rate=1/2, interleaver_type=\"3GPP\")\n",
        "    self.mapper  = Mapper(\"custom\", constellation=bpsk)\n",
        "    self.channel = AWGN()\n",
        "    self.demapper= Demapper(demapping_method=\"maxlog\", constellation_type=\"custom\", constellation=bpsk)\n",
        "    self.decoder = turbo.TurboDecoder(encoder=encoder, num_iter=6)\n",
        "\n",
        "  @tf.function(jit_compile=True)\n",
        "  def call(self, batch_size, ebno_db):\n",
        "    b = self.binary_source([batch_size, k])\n",
        "    c = self.encoder(b)\n",
        "    x = self.mapper(c)\n",
        "    no = ebnodb2no(ebn0, m, k/n)\n",
        "    y = self.channel([x, no])\n",
        "    llr = self.demapper([y, no])\n",
        "    b_hat = self.decoder(llr)\n",
        "    return b, b_hat\n",
        "\n"
      ]
    },
    {
      "cell_type": "code",
      "source": [
        "e2e = E2E()\n",
        "m = 2\n",
        "k = 64\n",
        "n = 128\n",
        "start = time.time()\n",
        "ber = compute_ber(*e2e(batch_size=20000, ebno_db=3))\n",
        "end = time.time()\n",
        "print(\"{:.2f} seconds elapsed\".format(end-start))\n",
        "print(ber)"
      ],
      "metadata": {
        "colab": {
          "base_uri": "https://localhost:8080/"
        },
        "id": "HrTCDtaixExu",
        "outputId": "b0ffee2a-8810-46de-8bdb-75e291b389ac"
      },
      "execution_count": null,
      "outputs": [
        {
          "output_type": "stream",
          "name": "stdout",
          "text": [
            "76.04 seconds elapsed\n",
            "tf.Tensor(2.5e-05, shape=(), dtype=float64)\n"
          ]
        }
      ]
    },
    {
      "cell_type": "code",
      "source": [
        "ber_plot = PlotBER(\"AWGN Channel\")\n",
        "ber_plot.simulate(\n",
        "    e2e,\n",
        "    ebno_dbs=np.arange(5,6),\n",
        "    batch_size=batch_size,\n",
        "    num_target_block_errors=150,\n",
        "    legend=\"Turbo\",\n",
        "    soft_estimates=False,\n",
        "    max_mc_iter=1000,\n",
        "    forward_keyboard_interrupt=False,\n",
        "    show_fig=True\n",
        ")"
      ],
      "metadata": {
        "colab": {
          "base_uri": "https://localhost:8080/",
          "height": 992
        },
        "id": "7loOV9U8y1bN",
        "outputId": "a775c6a7-536a-4c42-f966-2363ee843148"
      },
      "execution_count": null,
      "outputs": [
        {
          "output_type": "stream",
          "name": "stdout",
          "text": [
            "EbNo [dB] |        BER |       BLER |  bit errors |    num bits | block errors |  num blocks | runtime [s] |    status\n",
            "---------------------------------------------------------------------------------------------------------------------------------------\n",
            "      5.0 | 3.4555e-05 | 1.4423e-03 |         230 |     6656000 |          150 |      104000 |       375.7 |reached target block errors\n"
          ]
        },
        {
          "output_type": "execute_result",
          "data": {
            "text/plain": [
              "(<tf.Tensor: shape=(1,), dtype=float64, numpy=array([3.45552885e-05])>,\n",
              " <tf.Tensor: shape=(1,), dtype=float64, numpy=array([0.00144231])>)"
            ]
          },
          "metadata": {},
          "execution_count": 11
        },
        {
          "output_type": "display_data",
          "data": {
            "text/plain": [
              "<Figure size 1600x1000 with 1 Axes>"
            ],
            "image/png": "[encoded data removed]"
          },
          "metadata": {}
        }
      ]
    }
  ]
}